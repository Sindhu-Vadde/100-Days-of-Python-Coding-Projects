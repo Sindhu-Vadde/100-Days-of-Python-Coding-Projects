{
 "cells": [
  {
   "cell_type": "markdown",
   "metadata": {},
   "source": [
    "PROJECT 1- BAND NAME GENERATOR"
   ]
  },
  {
   "cell_type": "code",
   "execution_count": 3,
   "metadata": {},
   "outputs": [
    {
     "name": "stdout",
     "output_type": "stream",
     "text": [
      "Hello! Welcome all! \n",
      "Lets Create a Cool Band Name together\n",
      "The coolest name for your band is Hyderabad Ekasila\n",
      "Cool Right?\n"
     ]
    }
   ],
   "source": [
    "print(\"Hello! Welcome all! \\nLets Create a Cool Band Name together\")\n",
    "city_name=input(\"Which city did you live in?\")\n",
    "first_school=input(\"What's your first school name?\")\n",
    "print(\"The coolest name for your band is \" + city_name + \" \" + first_school)\n",
    "print(\"Cool Right?\")"
   ]
  }
 ],
 "metadata": {
  "kernelspec": {
   "display_name": "base",
   "language": "python",
   "name": "python3"
  },
  "language_info": {
   "codemirror_mode": {
    "name": "ipython",
    "version": 3
   },
   "file_extension": ".py",
   "mimetype": "text/x-python",
   "name": "python",
   "nbconvert_exporter": "python",
   "pygments_lexer": "ipython3",
   "version": "3.11.4"
  }
 },
 "nbformat": 4,
 "nbformat_minor": 2
}
